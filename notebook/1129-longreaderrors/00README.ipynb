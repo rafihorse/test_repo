{
 "cells": [
  {
   "cell_type": "markdown",
   "id": "819937f2-c2f6-4ce6-ad70-a0f4d12aa2ec",
   "metadata": {},
   "source": [
    "## The Inaugural Notebook"
   ]
  },
  {
   "cell_type": "markdown",
   "id": "279e3d7b-4195-4359-99cd-6f9cc9144d34",
   "metadata": {},
   "source": [
    "So after attending the MCB112 session on organizing and documenting computational work, I've realized that my \"system\" if it can be called that, is completely inadequate. I'm going to try implementing Sean's method for organization, with some tweaks because he uses plain text and not Jupyter Notebooks. The general schema is as follows:\n",
    "\n",
    "```bash\n",
    "notebook\n",
    "└── 1129-longreaderrors\n",
    "    └── 00README.ipynb\n",
    "```\n",
    "Where I have a notebook *that I will use for the entire year*, a directory *for the day* that has a name with `MONTHDAY-title`, and within each day's directory there will be a jupyter notebook like this where I will say the stuff that I did. I will likely also put other little files in there that I might need to use, like data I want to analyze within the notebook, screenshots of interesting things to remember, etc. Hopefully this way I won't get confused, because I won't be making broad project-level directories and forget what I did when and where the newest stuff is."
   ]
  },
  {
   "cell_type": "markdown",
   "id": "e384636e-9df3-4908-bef4-0c7aff770128",
   "metadata": {},
   "source": [
    "## Weird Long Read Errors"
   ]
  },
  {
   "cell_type": "markdown",
   "id": "e96afd35",
   "metadata": {},
   "source": [
    "I am tasked with finding out if raw long reads can disambiguate the transcript structures of the SRA1 gene. To start with I'm looking at histone H2BC21 which is a histone variant in humans, which should have a *simple transcript structure*, since it only has 1 intron. However, when I look at the long reads obtained from PacBio sequencing, there are way more errors than you would expect from a super conserved gene like a histone (Tom noticed this). Each purple \"I\" shaped thing is an insertion, the colored regular lines are mutations (in IGV). It appears that some reads are exactly identical and some are riddled with errors. Also what is going on in the right picture, where theres a billion things after the poly-A tail that are soft-clipped? Maybe the poly-A tail (showing up as poly-T here) is soft-clipped and then everything else after that gets thrown out by the aligner too, even though its probably read-through of some downstream thing (the UTR?). That can't be the case because it is showing them as mutations, so they actually don't match the reference. Is RNA-Pol just adding random nucleotides? Is reverse transcriptase? Wot.\n",
    "\n",
    "<p align=\"middle\">\n",
    "    <img src=\"SRR12844864_reads.png\" width=\"600\"/>\n",
    "    <img src=\"SRR14038191_reads.png\" width=\"600\"/>\n",
    "</p>"
   ]
  },
  {
   "cell_type": "markdown",
   "id": "ad4677fc",
   "metadata": {},
   "source": []
  }
 ],
 "metadata": {
  "kernelspec": {
   "display_name": "Python 3.11.0 64-bit",
   "language": "python",
   "name": "python3"
  },
  "language_info": {
   "codemirror_mode": {
    "name": "ipython",
    "version": 3
   },
   "file_extension": ".py",
   "mimetype": "text/x-python",
   "name": "python",
   "nbconvert_exporter": "python",
   "pygments_lexer": "ipython3",
   "version": "3.11.0"
  },
  "vscode": {
   "interpreter": {
    "hash": "5c7b89af1651d0b8571dde13640ecdccf7d5a6204171d6ab33e7c296e100e08a"
   }
  }
 },
 "nbformat": 4,
 "nbformat_minor": 5
}
