{
 "cells": [
  {
   "cell_type": "markdown",
   "id": "819937f2-c2f6-4ce6-ad70-a0f4d12aa2ec",
   "metadata": {},
   "source": [
    "## The inaugural notebook"
   ]
  },
  {
   "cell_type": "markdown",
   "id": "279e3d7b-4195-4359-99cd-6f9cc9144d34",
   "metadata": {},
   "source": [
    "So after attending the MCB112 session on organizing and documenting computational work, I've realized that my \"system\" if it can be called that, is completely inadequate. I'm going to try implementing Sean's method for organization, with some tweaks because he uses plain text and not Jupyter Notebooks. The general schema is as follows:\n",
    "\n",
    "```bash\n",
    "notebook\n",
    "└── 1129-longreaderrors\n",
    "    └── 00README.ipynb\n",
    "```\n",
    "Where I have a notebook *that I will use for the entire year*, a directory *for the day* that has a name with MONTHDAY-title, and within each day's directory there will be a jupyter notebook like this where I will say the stuff that I did. I will likely also put other little files in there that I might need to use, like data I want to analyze within the notebook, screenshots of interesting things to remember, etc. Hopefully this way I won't get confused, because I won't be making broad project-level directories and forget what I did when and where the newest stuff is."
   ]
  },
  {
   "cell_type": "code",
   "execution_count": null,
   "id": "e384636e-9df3-4908-bef4-0c7aff770128",
   "metadata": {},
   "outputs": [],
   "source": []
  }
 ],
 "metadata": {
  "kernelspec": {
   "display_name": "Python 3.11.0 64-bit",
   "language": "python",
   "name": "python3"
  },
  "language_info": {
   "codemirror_mode": {
    "name": "ipython",
    "version": 3
   },
   "file_extension": ".py",
   "mimetype": "text/x-python",
   "name": "python",
   "nbconvert_exporter": "python",
   "pygments_lexer": "ipython3",
   "version": "3.11.0"
  },
  "vscode": {
   "interpreter": {
    "hash": "5c7b89af1651d0b8571dde13640ecdccf7d5a6204171d6ab33e7c296e100e08a"
   }
  }
 },
 "nbformat": 4,
 "nbformat_minor": 5
}
